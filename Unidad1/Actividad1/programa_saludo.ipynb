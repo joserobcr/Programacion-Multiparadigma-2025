{
 "cells": [
  {
   "cell_type": "markdown",
   "id": "5f733ba0",
   "metadata": {},
   "source": [
    "Parte A - Programas en Python"
   ]
  },
  {
   "cell_type": "code",
   "execution_count": 1,
   "id": "387055a9",
   "metadata": {},
   "outputs": [
    {
     "name": "stdout",
     "output_type": "stream",
     "text": [
      "Hola, este es mi primer programa en Python\n"
     ]
    }
   ],
   "source": [
    "print(\"Hola, este es mi primer programa en Python\")"
   ]
  },
  {
   "cell_type": "code",
   "execution_count": 4,
   "id": "7901b963",
   "metadata": {},
   "outputs": [
    {
     "name": "stdout",
     "output_type": "stream",
     "text": [
      "Ingrese el nombre:\n",
      "Ingrese la edad:\n",
      "Hola Jose, tienes 21 años\n"
     ]
    }
   ],
   "source": [
    "print(\"Ingrese el nombre:\")\n",
    "nombre = input()\n",
    "print(\"Ingrese la edad:\")\n",
    "edad=input()\n",
    "print(\"Hola \" + nombre + \", tienes \" + edad + \" años\")"
   ]
  }
 ],
 "metadata": {
  "kernelspec": {
   "display_name": "Python 3",
   "language": "python",
   "name": "python3"
  },
  "language_info": {
   "codemirror_mode": {
    "name": "ipython",
    "version": 3
   },
   "file_extension": ".py",
   "mimetype": "text/x-python",
   "name": "python",
   "nbconvert_exporter": "python",
   "pygments_lexer": "ipython3",
   "version": "3.13.0"
  }
 },
 "nbformat": 4,
 "nbformat_minor": 5
}
